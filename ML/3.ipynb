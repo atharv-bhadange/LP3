{
 "cells": [
  {
   "cell_type": "markdown",
   "metadata": {},
   "source": [
    "<h3 style='color:blue' align='center'>Customer Churn Prediction Using Artificial Neural Network (ANN)</h3>"
   ]
  },
  {
   "cell_type": "markdown",
   "metadata": {},
   "source": [
    "Customer churn prediction is to measure why customers are leaving a business. In this tutorial we will be looking at customer churn in telecom business. We will build a deep learning model to predict the churn and use precision,recall, f1-score to measure performance of our model"
   ]
  },
  {
   "cell_type": "code",
   "execution_count": 1,
   "metadata": {},
   "outputs": [],
   "source": [
    "import pandas as pd\n",
    "from matplotlib import pyplot as plt\n",
    "import numpy as np\n",
    "%matplotlib inline\n"
   ]
  },
  {
   "cell_type": "markdown",
   "metadata": {},
   "source": [
    "**Load the data**"
   ]
  },
  {
   "cell_type": "code",
   "execution_count": 2,
   "metadata": {
    "scrolled": true
   },
   "outputs": [
    {
     "data": {
      "text/html": [
       "<div>\n",
       "<style scoped>\n",
       "    .dataframe tbody tr th:only-of-type {\n",
       "        vertical-align: middle;\n",
       "    }\n",
       "\n",
       "    .dataframe tbody tr th {\n",
       "        vertical-align: top;\n",
       "    }\n",
       "\n",
       "    .dataframe thead th {\n",
       "        text-align: right;\n",
       "    }\n",
       "</style>\n",
       "<table border=\"1\" class=\"dataframe\">\n",
       "  <thead>\n",
       "    <tr style=\"text-align: right;\">\n",
       "      <th></th>\n",
       "      <th>RowNumber</th>\n",
       "      <th>CustomerId</th>\n",
       "      <th>Surname</th>\n",
       "      <th>CreditScore</th>\n",
       "      <th>Geography</th>\n",
       "      <th>Gender</th>\n",
       "      <th>Age</th>\n",
       "      <th>Tenure</th>\n",
       "      <th>Balance</th>\n",
       "      <th>NumOfProducts</th>\n",
       "      <th>HasCrCard</th>\n",
       "      <th>IsActiveMember</th>\n",
       "      <th>EstimatedSalary</th>\n",
       "      <th>Exited</th>\n",
       "    </tr>\n",
       "  </thead>\n",
       "  <tbody>\n",
       "    <tr>\n",
       "      <th>5340</th>\n",
       "      <td>5341</td>\n",
       "      <td>15612667</td>\n",
       "      <td>Bird</td>\n",
       "      <td>680</td>\n",
       "      <td>Spain</td>\n",
       "      <td>Male</td>\n",
       "      <td>42</td>\n",
       "      <td>0</td>\n",
       "      <td>0.00</td>\n",
       "      <td>1</td>\n",
       "      <td>1</td>\n",
       "      <td>0</td>\n",
       "      <td>136377.21</td>\n",
       "      <td>0</td>\n",
       "    </tr>\n",
       "    <tr>\n",
       "      <th>2366</th>\n",
       "      <td>2367</td>\n",
       "      <td>15623430</td>\n",
       "      <td>Hill</td>\n",
       "      <td>672</td>\n",
       "      <td>France</td>\n",
       "      <td>Male</td>\n",
       "      <td>34</td>\n",
       "      <td>9</td>\n",
       "      <td>0.00</td>\n",
       "      <td>2</td>\n",
       "      <td>1</td>\n",
       "      <td>0</td>\n",
       "      <td>161800.77</td>\n",
       "      <td>0</td>\n",
       "    </tr>\n",
       "    <tr>\n",
       "      <th>1101</th>\n",
       "      <td>1102</td>\n",
       "      <td>15782219</td>\n",
       "      <td>Fanucci</td>\n",
       "      <td>703</td>\n",
       "      <td>Spain</td>\n",
       "      <td>Male</td>\n",
       "      <td>29</td>\n",
       "      <td>9</td>\n",
       "      <td>0.00</td>\n",
       "      <td>2</td>\n",
       "      <td>1</td>\n",
       "      <td>0</td>\n",
       "      <td>50679.48</td>\n",
       "      <td>0</td>\n",
       "    </tr>\n",
       "    <tr>\n",
       "      <th>315</th>\n",
       "      <td>316</td>\n",
       "      <td>15581539</td>\n",
       "      <td>Atkinson</td>\n",
       "      <td>474</td>\n",
       "      <td>Spain</td>\n",
       "      <td>Male</td>\n",
       "      <td>37</td>\n",
       "      <td>3</td>\n",
       "      <td>0.00</td>\n",
       "      <td>2</td>\n",
       "      <td>0</td>\n",
       "      <td>0</td>\n",
       "      <td>57175.32</td>\n",
       "      <td>0</td>\n",
       "    </tr>\n",
       "    <tr>\n",
       "      <th>9565</th>\n",
       "      <td>9566</td>\n",
       "      <td>15752294</td>\n",
       "      <td>Long</td>\n",
       "      <td>582</td>\n",
       "      <td>France</td>\n",
       "      <td>Female</td>\n",
       "      <td>38</td>\n",
       "      <td>9</td>\n",
       "      <td>135979.01</td>\n",
       "      <td>4</td>\n",
       "      <td>1</td>\n",
       "      <td>1</td>\n",
       "      <td>76582.95</td>\n",
       "      <td>1</td>\n",
       "    </tr>\n",
       "  </tbody>\n",
       "</table>\n",
       "</div>"
      ],
      "text/plain": [
       "      RowNumber  CustomerId   Surname  CreditScore Geography  Gender  Age  \\\n",
       "5340       5341    15612667      Bird          680     Spain    Male   42   \n",
       "2366       2367    15623430      Hill          672    France    Male   34   \n",
       "1101       1102    15782219   Fanucci          703     Spain    Male   29   \n",
       "315         316    15581539  Atkinson          474     Spain    Male   37   \n",
       "9565       9566    15752294      Long          582    France  Female   38   \n",
       "\n",
       "      Tenure    Balance  NumOfProducts  HasCrCard  IsActiveMember  \\\n",
       "5340       0       0.00              1          1               0   \n",
       "2366       9       0.00              2          1               0   \n",
       "1101       9       0.00              2          1               0   \n",
       "315        3       0.00              2          0               0   \n",
       "9565       9  135979.01              4          1               1   \n",
       "\n",
       "      EstimatedSalary  Exited  \n",
       "5340        136377.21       0  \n",
       "2366        161800.77       0  \n",
       "1101         50679.48       0  \n",
       "315          57175.32       0  \n",
       "9565         76582.95       1  "
      ]
     },
     "execution_count": 2,
     "metadata": {},
     "output_type": "execute_result"
    }
   ],
   "source": [
    "df = pd.read_csv(\"Churn_Modelling.csv\")\n",
    "df.sample(5)\n"
   ]
  },
  {
   "cell_type": "markdown",
   "metadata": {},
   "source": [
    "**First of all, drop customerID column as it is of no use**"
   ]
  },
  {
   "cell_type": "code",
   "execution_count": 3,
   "metadata": {},
   "outputs": [],
   "source": [
    "df.drop('CustomerId',axis='columns',inplace=True)\n",
    "df.drop('Surname',axis='columns',inplace=True)\n",
    "df.drop('RowNumber',axis='columns',inplace=True)\n"
   ]
  },
  {
   "cell_type": "code",
   "execution_count": 4,
   "metadata": {
    "scrolled": false
   },
   "outputs": [
    {
     "data": {
      "text/plain": [
       "CreditScore          int64\n",
       "Geography           object\n",
       "Gender              object\n",
       "Age                  int64\n",
       "Tenure               int64\n",
       "Balance            float64\n",
       "NumOfProducts        int64\n",
       "HasCrCard            int64\n",
       "IsActiveMember       int64\n",
       "EstimatedSalary    float64\n",
       "Exited               int64\n",
       "dtype: object"
      ]
     },
     "execution_count": 4,
     "metadata": {},
     "output_type": "execute_result"
    }
   ],
   "source": [
    "df.dtypes\n"
   ]
  },
  {
   "cell_type": "code",
   "execution_count": 5,
   "metadata": {},
   "outputs": [
    {
     "data": {
      "text/plain": [
       "(10000, 11)"
      ]
     },
     "execution_count": 5,
     "metadata": {},
     "output_type": "execute_result"
    }
   ],
   "source": [
    "df.shape\n"
   ]
  },
  {
   "cell_type": "code",
   "execution_count": 6,
   "metadata": {},
   "outputs": [
    {
     "data": {
      "text/plain": [
       "CreditScore        0\n",
       "Geography          0\n",
       "Gender             0\n",
       "Age                0\n",
       "Tenure             0\n",
       "Balance            0\n",
       "NumOfProducts      0\n",
       "HasCrCard          0\n",
       "IsActiveMember     0\n",
       "EstimatedSalary    0\n",
       "Exited             0\n",
       "dtype: int64"
      ]
     },
     "execution_count": 6,
     "metadata": {},
     "output_type": "execute_result"
    }
   ],
   "source": [
    "df.isnull().sum()\n"
   ]
  },
  {
   "cell_type": "code",
   "execution_count": 7,
   "metadata": {},
   "outputs": [],
   "source": [
    "df['Gender'].replace({'Female':1,'Male':0},inplace=True)\n"
   ]
  },
  {
   "cell_type": "code",
   "execution_count": 8,
   "metadata": {},
   "outputs": [
    {
     "data": {
      "text/plain": [
       "array(['France', 'Spain', 'Germany'], dtype=object)"
      ]
     },
     "execution_count": 8,
     "metadata": {},
     "output_type": "execute_result"
    }
   ],
   "source": [
    "df['Geography'].unique()\n"
   ]
  },
  {
   "cell_type": "code",
   "execution_count": 9,
   "metadata": {},
   "outputs": [],
   "source": [
    "df['Geography'].replace({'France':1,'Spain':0,'Germany':2},inplace=True)\n"
   ]
  },
  {
   "cell_type": "code",
   "execution_count": 10,
   "metadata": {},
   "outputs": [
    {
     "data": {
      "text/plain": [
       "array([1, 0])"
      ]
     },
     "execution_count": 10,
     "metadata": {},
     "output_type": "execute_result"
    }
   ],
   "source": [
    "df.Gender.unique()\n"
   ]
  },
  {
   "cell_type": "code",
   "execution_count": 11,
   "metadata": {
    "scrolled": true
   },
   "outputs": [
    {
     "data": {
      "text/plain": [
       "CreditScore          int64\n",
       "Geography            int64\n",
       "Gender               int64\n",
       "Age                  int64\n",
       "Tenure               int64\n",
       "Balance            float64\n",
       "NumOfProducts        int64\n",
       "HasCrCard            int64\n",
       "IsActiveMember       int64\n",
       "EstimatedSalary    float64\n",
       "Exited               int64\n",
       "dtype: object"
      ]
     },
     "execution_count": 11,
     "metadata": {},
     "output_type": "execute_result"
    }
   ],
   "source": [
    "df.dtypes\n"
   ]
  },
  {
   "cell_type": "code",
   "execution_count": 12,
   "metadata": {},
   "outputs": [],
   "source": [
    "cols_to_scale = ['Balance','EstimatedSalary','CreditScore']\n",
    "\n",
    "from sklearn.preprocessing import MinMaxScaler\n",
    "scaler = MinMaxScaler()\n",
    "df[cols_to_scale] = scaler.fit_transform(df[cols_to_scale])\n"
   ]
  },
  {
   "cell_type": "markdown",
   "metadata": {},
   "source": [
    "**Train test split**"
   ]
  },
  {
   "cell_type": "code",
   "execution_count": 13,
   "metadata": {},
   "outputs": [],
   "source": [
    "X = df.drop('Exited',axis='columns')\n",
    "y = df['Exited']\n",
    "\n",
    "from sklearn.model_selection import train_test_split\n",
    "X_train, X_test, y_train, y_test = train_test_split(X,y,test_size=0.2,random_state=5)\n"
   ]
  },
  {
   "cell_type": "markdown",
   "metadata": {},
   "source": [
    "**Build a model (ANN) in tensorflow/keras**"
   ]
  },
  {
   "cell_type": "code",
   "execution_count": null,
   "metadata": {},
   "outputs": [],
   "source": [
    "import tensorflow as tf\n",
    "from tensorflow import keras\n"
   ]
  },
  {
   "cell_type": "code",
   "execution_count": 47,
   "metadata": {
    "scrolled": false
   },
   "outputs": [
    {
     "name": "stdout",
     "output_type": "stream",
     "text": [
      "Epoch 1/500\n",
      "250/250 [==============================] - 0s 612us/step - loss: 0.7136 - accuracy: 0.7847\n",
      "Epoch 2/500\n",
      "250/250 [==============================] - 0s 562us/step - loss: 0.4949 - accuracy: 0.7975\n",
      "Epoch 3/500\n",
      "250/250 [==============================] - 0s 570us/step - loss: 0.4724 - accuracy: 0.8014\n",
      "Epoch 4/500\n",
      "250/250 [==============================] - 0s 653us/step - loss: 0.4642 - accuracy: 0.8101\n",
      "Epoch 5/500\n",
      "250/250 [==============================] - 0s 814us/step - loss: 0.4571 - accuracy: 0.8125\n",
      "Epoch 6/500\n",
      "250/250 [==============================] - 0s 590us/step - loss: 0.4556 - accuracy: 0.8144\n",
      "Epoch 7/500\n",
      "250/250 [==============================] - 0s 566us/step - loss: 0.4524 - accuracy: 0.8123\n",
      "Epoch 8/500\n",
      "250/250 [==============================] - 0s 562us/step - loss: 0.4506 - accuracy: 0.8145\n",
      "Epoch 9/500\n",
      "250/250 [==============================] - 0s 583us/step - loss: 0.4485 - accuracy: 0.8141\n",
      "Epoch 10/500\n",
      "250/250 [==============================] - 0s 584us/step - loss: 0.4470 - accuracy: 0.8149\n",
      "Epoch 11/500\n",
      "250/250 [==============================] - 0s 580us/step - loss: 0.4466 - accuracy: 0.8151\n",
      "Epoch 12/500\n",
      "250/250 [==============================] - 0s 628us/step - loss: 0.4440 - accuracy: 0.8155\n",
      "Epoch 13/500\n",
      "250/250 [==============================] - 0s 666us/step - loss: 0.4444 - accuracy: 0.8148\n",
      "Epoch 14/500\n",
      "250/250 [==============================] - 0s 579us/step - loss: 0.4438 - accuracy: 0.8149\n",
      "Epoch 15/500\n",
      "250/250 [==============================] - 0s 552us/step - loss: 0.4439 - accuracy: 0.8146\n",
      "Epoch 16/500\n",
      "250/250 [==============================] - 0s 563us/step - loss: 0.4427 - accuracy: 0.8140\n",
      "Epoch 17/500\n",
      "250/250 [==============================] - 0s 570us/step - loss: 0.4386 - accuracy: 0.8195\n",
      "Epoch 18/500\n",
      "250/250 [==============================] - 0s 568us/step - loss: 0.4399 - accuracy: 0.8170\n",
      "Epoch 19/500\n",
      "250/250 [==============================] - 0s 601us/step - loss: 0.4393 - accuracy: 0.8179\n",
      "Epoch 20/500\n",
      "250/250 [==============================] - 0s 564us/step - loss: 0.4406 - accuracy: 0.8140\n",
      "Epoch 21/500\n",
      "250/250 [==============================] - 0s 643us/step - loss: 0.4361 - accuracy: 0.8174\n",
      "Epoch 22/500\n",
      "250/250 [==============================] - 0s 577us/step - loss: 0.4358 - accuracy: 0.8204\n",
      "Epoch 23/500\n",
      "250/250 [==============================] - 0s 581us/step - loss: 0.4361 - accuracy: 0.8136\n",
      "Epoch 24/500\n",
      "250/250 [==============================] - 0s 582us/step - loss: 0.4356 - accuracy: 0.8177\n",
      "Epoch 25/500\n",
      "250/250 [==============================] - 0s 857us/step - loss: 0.4320 - accuracy: 0.8199\n",
      "Epoch 26/500\n",
      "250/250 [==============================] - 0s 730us/step - loss: 0.4338 - accuracy: 0.8186\n",
      "Epoch 27/500\n",
      "250/250 [==============================] - 0s 556us/step - loss: 0.4316 - accuracy: 0.8142\n",
      "Epoch 28/500\n",
      "250/250 [==============================] - 0s 561us/step - loss: 0.4336 - accuracy: 0.8186\n",
      "Epoch 29/500\n",
      "250/250 [==============================] - 0s 561us/step - loss: 0.4310 - accuracy: 0.8190\n",
      "Epoch 30/500\n",
      "250/250 [==============================] - 0s 567us/step - loss: 0.4302 - accuracy: 0.8186\n",
      "Epoch 31/500\n",
      "250/250 [==============================] - 0s 559us/step - loss: 0.4293 - accuracy: 0.8190\n",
      "Epoch 32/500\n",
      "250/250 [==============================] - 0s 565us/step - loss: 0.4308 - accuracy: 0.8176\n",
      "Epoch 33/500\n",
      "250/250 [==============================] - 0s 563us/step - loss: 0.4292 - accuracy: 0.8206\n",
      "Epoch 34/500\n",
      "250/250 [==============================] - 0s 599us/step - loss: 0.4284 - accuracy: 0.8199\n",
      "Epoch 35/500\n",
      "250/250 [==============================] - 0s 557us/step - loss: 0.4284 - accuracy: 0.8202\n",
      "Epoch 36/500\n",
      "250/250 [==============================] - 0s 624us/step - loss: 0.4264 - accuracy: 0.8234\n",
      "Epoch 37/500\n",
      "250/250 [==============================] - 0s 616us/step - loss: 0.4281 - accuracy: 0.8224\n",
      "Epoch 38/500\n",
      "250/250 [==============================] - 0s 632us/step - loss: 0.4279 - accuracy: 0.8211\n",
      "Epoch 39/500\n",
      "250/250 [==============================] - 0s 560us/step - loss: 0.4260 - accuracy: 0.8235\n",
      "Epoch 40/500\n",
      "250/250 [==============================] - 0s 617us/step - loss: 0.4275 - accuracy: 0.8201\n",
      "Epoch 41/500\n",
      "250/250 [==============================] - 0s 585us/step - loss: 0.4273 - accuracy: 0.8226\n",
      "Epoch 42/500\n",
      "250/250 [==============================] - 0s 613us/step - loss: 0.4252 - accuracy: 0.8195\n",
      "Epoch 43/500\n",
      "250/250 [==============================] - 0s 704us/step - loss: 0.4255 - accuracy: 0.8251\n",
      "Epoch 44/500\n",
      "250/250 [==============================] - 0s 676us/step - loss: 0.4228 - accuracy: 0.8213\n",
      "Epoch 45/500\n",
      "250/250 [==============================] - 0s 563us/step - loss: 0.4241 - accuracy: 0.8213\n",
      "Epoch 46/500\n",
      "250/250 [==============================] - 0s 592us/step - loss: 0.4230 - accuracy: 0.8242\n",
      "Epoch 47/500\n",
      "250/250 [==============================] - 0s 565us/step - loss: 0.4226 - accuracy: 0.8254\n",
      "Epoch 48/500\n",
      "250/250 [==============================] - 0s 563us/step - loss: 0.4259 - accuracy: 0.8215\n",
      "Epoch 49/500\n",
      "250/250 [==============================] - 0s 577us/step - loss: 0.4220 - accuracy: 0.8240\n",
      "Epoch 50/500\n",
      "250/250 [==============================] - 0s 680us/step - loss: 0.4221 - accuracy: 0.8244\n",
      "Epoch 51/500\n",
      "250/250 [==============================] - 0s 882us/step - loss: 0.4224 - accuracy: 0.8231\n",
      "Epoch 52/500\n",
      "250/250 [==============================] - 0s 564us/step - loss: 0.4239 - accuracy: 0.8213\n",
      "Epoch 53/500\n",
      "250/250 [==============================] - 0s 545us/step - loss: 0.4206 - accuracy: 0.8261\n",
      "Epoch 54/500\n",
      "250/250 [==============================] - 0s 539us/step - loss: 0.4202 - accuracy: 0.8239\n",
      "Epoch 55/500\n",
      "250/250 [==============================] - 0s 589us/step - loss: 0.4208 - accuracy: 0.8232\n",
      "Epoch 56/500\n",
      "250/250 [==============================] - 0s 636us/step - loss: 0.4219 - accuracy: 0.8236\n",
      "Epoch 57/500\n",
      "250/250 [==============================] - 0s 673us/step - loss: 0.4204 - accuracy: 0.8259\n",
      "Epoch 58/500\n",
      "250/250 [==============================] - 0s 563us/step - loss: 0.4189 - accuracy: 0.8254\n",
      "Epoch 59/500\n",
      "250/250 [==============================] - 0s 537us/step - loss: 0.4201 - accuracy: 0.8257\n",
      "Epoch 60/500\n",
      "250/250 [==============================] - 0s 547us/step - loss: 0.4191 - accuracy: 0.8280\n",
      "Epoch 61/500\n",
      "250/250 [==============================] - 0s 600us/step - loss: 0.4179 - accuracy: 0.8250\n",
      "Epoch 62/500\n",
      "250/250 [==============================] - 0s 586us/step - loss: 0.4199 - accuracy: 0.8254\n",
      "Epoch 63/500\n",
      "250/250 [==============================] - 0s 588us/step - loss: 0.4183 - accuracy: 0.8273\n",
      "Epoch 64/500\n",
      "250/250 [==============================] - 0s 538us/step - loss: 0.4211 - accuracy: 0.8250\n",
      "Epoch 65/500\n",
      "250/250 [==============================] - 0s 540us/step - loss: 0.4185 - accuracy: 0.8264\n",
      "Epoch 66/500\n",
      "250/250 [==============================] - 0s 573us/step - loss: 0.4195 - accuracy: 0.8242\n",
      "Epoch 67/500\n",
      "250/250 [==============================] - 0s 580us/step - loss: 0.4211 - accuracy: 0.8227\n",
      "Epoch 68/500\n",
      "250/250 [==============================] - 0s 566us/step - loss: 0.4177 - accuracy: 0.8286\n",
      "Epoch 69/500\n",
      "250/250 [==============================] - 0s 553us/step - loss: 0.4173 - accuracy: 0.8267\n",
      "Epoch 70/500\n",
      "250/250 [==============================] - 0s 555us/step - loss: 0.4166 - accuracy: 0.8253\n",
      "Epoch 71/500\n",
      "250/250 [==============================] - 0s 629us/step - loss: 0.4164 - accuracy: 0.8256\n",
      "Epoch 72/500\n",
      "250/250 [==============================] - 0s 848us/step - loss: 0.4166 - accuracy: 0.8270\n",
      "Epoch 73/500\n",
      "250/250 [==============================] - 0s 675us/step - loss: 0.4183 - accuracy: 0.8270\n",
      "Epoch 74/500\n",
      "250/250 [==============================] - 0s 572us/step - loss: 0.4166 - accuracy: 0.8294\n",
      "Epoch 75/500\n",
      "250/250 [==============================] - 0s 548us/step - loss: 0.4148 - accuracy: 0.8267\n",
      "Epoch 76/500\n",
      "250/250 [==============================] - 0s 543us/step - loss: 0.4171 - accuracy: 0.8257\n",
      "Epoch 77/500\n",
      "250/250 [==============================] - 0s 570us/step - loss: 0.4165 - accuracy: 0.8255\n",
      "Epoch 78/500\n",
      "250/250 [==============================] - 0s 537us/step - loss: 0.4165 - accuracy: 0.8279\n",
      "Epoch 79/500\n",
      "250/250 [==============================] - 0s 538us/step - loss: 0.4161 - accuracy: 0.8285\n",
      "Epoch 80/500\n",
      "250/250 [==============================] - 0s 534us/step - loss: 0.4146 - accuracy: 0.8314\n",
      "Epoch 81/500\n",
      "250/250 [==============================] - 0s 534us/step - loss: 0.4143 - accuracy: 0.8282\n",
      "Epoch 82/500\n",
      "250/250 [==============================] - 0s 707us/step - loss: 0.4152 - accuracy: 0.8291\n",
      "Epoch 83/500\n",
      "250/250 [==============================] - 0s 579us/step - loss: 0.4153 - accuracy: 0.8304\n",
      "Epoch 84/500\n",
      "250/250 [==============================] - 0s 612us/step - loss: 0.4138 - accuracy: 0.8291\n",
      "Epoch 85/500\n",
      "250/250 [==============================] - 0s 550us/step - loss: 0.4153 - accuracy: 0.8280\n",
      "Epoch 86/500\n",
      "250/250 [==============================] - 0s 565us/step - loss: 0.4138 - accuracy: 0.8304\n",
      "Epoch 87/500\n",
      "250/250 [==============================] - 0s 568us/step - loss: 0.4145 - accuracy: 0.8295\n",
      "Epoch 88/500\n",
      "250/250 [==============================] - 0s 544us/step - loss: 0.4136 - accuracy: 0.8301\n",
      "Epoch 89/500\n",
      "250/250 [==============================] - 0s 535us/step - loss: 0.4125 - accuracy: 0.8285\n",
      "Epoch 90/500\n",
      "250/250 [==============================] - 0s 538us/step - loss: 0.4119 - accuracy: 0.8316\n",
      "Epoch 91/500\n",
      "250/250 [==============================] - 0s 539us/step - loss: 0.4118 - accuracy: 0.8332\n",
      "Epoch 92/500\n",
      "250/250 [==============================] - 0s 548us/step - loss: 0.4116 - accuracy: 0.8315\n",
      "Epoch 93/500\n",
      "250/250 [==============================] - 0s 637us/step - loss: 0.4148 - accuracy: 0.8281\n",
      "Epoch 94/500\n",
      "250/250 [==============================] - 0s 545us/step - loss: 0.4133 - accuracy: 0.8315\n",
      "Epoch 95/500\n",
      "250/250 [==============================] - 0s 551us/step - loss: 0.4113 - accuracy: 0.8334\n",
      "Epoch 96/500\n",
      "250/250 [==============================] - 0s 546us/step - loss: 0.4113 - accuracy: 0.8316\n",
      "Epoch 97/500\n",
      "250/250 [==============================] - 0s 535us/step - loss: 0.4133 - accuracy: 0.8281\n",
      "Epoch 98/500\n",
      "250/250 [==============================] - 0s 586us/step - loss: 0.4125 - accuracy: 0.8314\n",
      "Epoch 99/500\n",
      "250/250 [==============================] - 0s 644us/step - loss: 0.4103 - accuracy: 0.8335\n",
      "Epoch 100/500\n",
      "250/250 [==============================] - 0s 558us/step - loss: 0.4118 - accuracy: 0.8317\n",
      "Epoch 101/500\n",
      "250/250 [==============================] - 0s 568us/step - loss: 0.4098 - accuracy: 0.8321\n",
      "Epoch 102/500\n",
      "250/250 [==============================] - 0s 540us/step - loss: 0.4122 - accuracy: 0.8280\n",
      "Epoch 103/500\n",
      "250/250 [==============================] - 0s 689us/step - loss: 0.4107 - accuracy: 0.8320\n",
      "Epoch 104/500\n",
      "250/250 [==============================] - 0s 573us/step - loss: 0.4108 - accuracy: 0.8311\n",
      "Epoch 105/500\n",
      "250/250 [==============================] - 0s 586us/step - loss: 0.4130 - accuracy: 0.8305\n",
      "Epoch 106/500\n",
      "250/250 [==============================] - 0s 556us/step - loss: 0.4109 - accuracy: 0.8313\n",
      "Epoch 107/500\n",
      "250/250 [==============================] - 0s 631us/step - loss: 0.4120 - accuracy: 0.8319\n",
      "Epoch 108/500\n",
      "250/250 [==============================] - 0s 569us/step - loss: 0.4099 - accuracy: 0.8335\n",
      "Epoch 109/500\n",
      "250/250 [==============================] - 0s 573us/step - loss: 0.4098 - accuracy: 0.8340\n",
      "Epoch 110/500\n",
      "250/250 [==============================] - 0s 571us/step - loss: 0.4109 - accuracy: 0.8335\n",
      "Epoch 111/500\n",
      "250/250 [==============================] - 0s 618us/step - loss: 0.4102 - accuracy: 0.8314\n",
      "Epoch 112/500\n",
      "250/250 [==============================] - 0s 733us/step - loss: 0.4095 - accuracy: 0.8319\n",
      "Epoch 113/500\n",
      "250/250 [==============================] - 0s 689us/step - loss: 0.4094 - accuracy: 0.8316\n",
      "Epoch 114/500\n",
      "250/250 [==============================] - 0s 539us/step - loss: 0.4085 - accuracy: 0.8338\n",
      "Epoch 115/500\n",
      "250/250 [==============================] - 0s 547us/step - loss: 0.4101 - accuracy: 0.8332\n",
      "Epoch 116/500\n",
      "250/250 [==============================] - 0s 547us/step - loss: 0.4112 - accuracy: 0.8301\n",
      "Epoch 117/500\n",
      "250/250 [==============================] - 0s 571us/step - loss: 0.4089 - accuracy: 0.8328\n",
      "Epoch 118/500\n",
      "250/250 [==============================] - 0s 679us/step - loss: 0.4098 - accuracy: 0.8326\n",
      "Epoch 119/500\n",
      "250/250 [==============================] - 0s 875us/step - loss: 0.4086 - accuracy: 0.8322\n",
      "Epoch 120/500\n",
      "250/250 [==============================] - 0s 798us/step - loss: 0.4094 - accuracy: 0.8306\n",
      "Epoch 121/500\n",
      "250/250 [==============================] - 0s 681us/step - loss: 0.4076 - accuracy: 0.8334\n",
      "Epoch 122/500\n",
      "250/250 [==============================] - 0s 563us/step - loss: 0.4063 - accuracy: 0.8329\n",
      "Epoch 123/500\n",
      "250/250 [==============================] - 0s 558us/step - loss: 0.4072 - accuracy: 0.8311\n",
      "Epoch 124/500\n",
      "250/250 [==============================] - 0s 618us/step - loss: 0.4057 - accuracy: 0.8314\n",
      "Epoch 125/500\n",
      "250/250 [==============================] - 0s 606us/step - loss: 0.4039 - accuracy: 0.8351\n",
      "Epoch 126/500\n",
      "250/250 [==============================] - 0s 567us/step - loss: 0.4010 - accuracy: 0.8353\n",
      "Epoch 127/500\n",
      "250/250 [==============================] - 0s 553us/step - loss: 0.4010 - accuracy: 0.8354\n",
      "Epoch 128/500\n",
      "250/250 [==============================] - 0s 550us/step - loss: 0.3994 - accuracy: 0.8367\n",
      "Epoch 129/500\n",
      "250/250 [==============================] - 0s 554us/step - loss: 0.3980 - accuracy: 0.8353\n",
      "Epoch 130/500\n",
      "250/250 [==============================] - 0s 555us/step - loss: 0.3945 - accuracy: 0.8376\n",
      "Epoch 131/500\n",
      "250/250 [==============================] - 0s 565us/step - loss: 0.3945 - accuracy: 0.8367\n",
      "Epoch 132/500\n",
      "250/250 [==============================] - 0s 553us/step - loss: 0.3922 - accuracy: 0.8384\n",
      "Epoch 133/500\n",
      "250/250 [==============================] - 0s 558us/step - loss: 0.3903 - accuracy: 0.8391\n",
      "Epoch 134/500\n",
      "250/250 [==============================] - 0s 556us/step - loss: 0.3881 - accuracy: 0.8404\n",
      "Epoch 135/500\n",
      "250/250 [==============================] - 0s 554us/step - loss: 0.3877 - accuracy: 0.8407\n",
      "Epoch 136/500\n",
      "250/250 [==============================] - 0s 564us/step - loss: 0.3869 - accuracy: 0.8421\n",
      "Epoch 137/500\n",
      "250/250 [==============================] - 0s 557us/step - loss: 0.3862 - accuracy: 0.8385\n",
      "Epoch 138/500\n",
      "250/250 [==============================] - 0s 553us/step - loss: 0.3838 - accuracy: 0.8403\n",
      "Epoch 139/500\n",
      "250/250 [==============================] - 0s 556us/step - loss: 0.3819 - accuracy: 0.8434\n",
      "Epoch 140/500\n",
      "250/250 [==============================] - 0s 557us/step - loss: 0.3833 - accuracy: 0.8425\n",
      "Epoch 141/500\n",
      "250/250 [==============================] - 0s 553us/step - loss: 0.3792 - accuracy: 0.8409\n",
      "Epoch 142/500\n",
      "250/250 [==============================] - 0s 550us/step - loss: 0.3773 - accuracy: 0.8444\n",
      "Epoch 143/500\n",
      "250/250 [==============================] - 0s 598us/step - loss: 0.3771 - accuracy: 0.8421\n",
      "Epoch 144/500\n",
      "250/250 [==============================] - 0s 569us/step - loss: 0.3755 - accuracy: 0.8440\n",
      "Epoch 145/500\n",
      "250/250 [==============================] - 0s 558us/step - loss: 0.3754 - accuracy: 0.8424\n",
      "Epoch 146/500\n",
      "250/250 [==============================] - 0s 721us/step - loss: 0.3784 - accuracy: 0.8400\n",
      "Epoch 147/500\n",
      "250/250 [==============================] - 0s 555us/step - loss: 0.3749 - accuracy: 0.8424\n",
      "Epoch 148/500\n",
      "250/250 [==============================] - 0s 554us/step - loss: 0.3735 - accuracy: 0.8464\n",
      "Epoch 149/500\n",
      "250/250 [==============================] - 0s 557us/step - loss: 0.3739 - accuracy: 0.8444\n",
      "Epoch 150/500\n",
      "250/250 [==============================] - 0s 553us/step - loss: 0.3719 - accuracy: 0.8450\n",
      "Epoch 151/500\n",
      "250/250 [==============================] - 0s 556us/step - loss: 0.3710 - accuracy: 0.8447\n",
      "Epoch 152/500\n",
      "250/250 [==============================] - 0s 555us/step - loss: 0.3710 - accuracy: 0.8457\n",
      "Epoch 153/500\n",
      "250/250 [==============================] - 0s 557us/step - loss: 0.3703 - accuracy: 0.8464\n",
      "Epoch 154/500\n",
      "250/250 [==============================] - 0s 585us/step - loss: 0.3663 - accuracy: 0.8481\n",
      "Epoch 155/500\n",
      "250/250 [==============================] - 0s 562us/step - loss: 0.3695 - accuracy: 0.8481\n",
      "Epoch 156/500\n",
      "250/250 [==============================] - 0s 560us/step - loss: 0.3655 - accuracy: 0.8466\n",
      "Epoch 157/500\n",
      "250/250 [==============================] - 0s 539us/step - loss: 0.3663 - accuracy: 0.8521\n",
      "Epoch 158/500\n",
      "250/250 [==============================] - 0s 651us/step - loss: 0.3664 - accuracy: 0.8491\n",
      "Epoch 159/500\n",
      "250/250 [==============================] - 0s 580us/step - loss: 0.3651 - accuracy: 0.8515\n",
      "Epoch 160/500\n",
      "250/250 [==============================] - 0s 549us/step - loss: 0.3669 - accuracy: 0.8499\n",
      "Epoch 161/500\n",
      "250/250 [==============================] - 0s 542us/step - loss: 0.3628 - accuracy: 0.8518\n",
      "Epoch 162/500\n",
      "250/250 [==============================] - 0s 536us/step - loss: 0.3639 - accuracy: 0.8519\n",
      "Epoch 163/500\n",
      "250/250 [==============================] - 0s 534us/step - loss: 0.3643 - accuracy: 0.8493\n",
      "Epoch 164/500\n",
      "250/250 [==============================] - 0s 536us/step - loss: 0.3637 - accuracy: 0.8500\n",
      "Epoch 165/500\n",
      "250/250 [==============================] - 0s 537us/step - loss: 0.3632 - accuracy: 0.8519\n",
      "Epoch 166/500\n",
      "250/250 [==============================] - 0s 536us/step - loss: 0.3624 - accuracy: 0.8520\n",
      "Epoch 167/500\n",
      "250/250 [==============================] - 0s 529us/step - loss: 0.3586 - accuracy: 0.8536\n",
      "Epoch 168/500\n",
      "250/250 [==============================] - 0s 535us/step - loss: 0.3624 - accuracy: 0.8516\n",
      "Epoch 169/500\n",
      "250/250 [==============================] - 0s 765us/step - loss: 0.3584 - accuracy: 0.8536\n",
      "Epoch 170/500\n",
      "250/250 [==============================] - 0s 645us/step - loss: 0.3614 - accuracy: 0.8534\n",
      "Epoch 171/500\n",
      "250/250 [==============================] - 0s 539us/step - loss: 0.3600 - accuracy: 0.8505\n",
      "Epoch 172/500\n",
      "250/250 [==============================] - 0s 538us/step - loss: 0.3576 - accuracy: 0.8547\n",
      "Epoch 173/500\n",
      "250/250 [==============================] - 0s 659us/step - loss: 0.3604 - accuracy: 0.8481\n",
      "Epoch 174/500\n",
      "250/250 [==============================] - 0s 537us/step - loss: 0.3590 - accuracy: 0.8550\n",
      "Epoch 175/500\n",
      "250/250 [==============================] - 0s 538us/step - loss: 0.3596 - accuracy: 0.8566\n",
      "Epoch 176/500\n",
      "250/250 [==============================] - 0s 533us/step - loss: 0.3566 - accuracy: 0.8553\n",
      "Epoch 177/500\n",
      "250/250 [==============================] - 0s 534us/step - loss: 0.3559 - accuracy: 0.8564\n",
      "Epoch 178/500\n",
      "250/250 [==============================] - 0s 659us/step - loss: 0.3571 - accuracy: 0.8518\n",
      "Epoch 179/500\n",
      "250/250 [==============================] - 0s 535us/step - loss: 0.3574 - accuracy: 0.8528\n",
      "Epoch 180/500\n",
      "250/250 [==============================] - 0s 746us/step - loss: 0.3573 - accuracy: 0.8514\n",
      "Epoch 181/500\n",
      "250/250 [==============================] - 0s 537us/step - loss: 0.3551 - accuracy: 0.8530\n",
      "Epoch 182/500\n",
      "250/250 [==============================] - 0s 549us/step - loss: 0.3599 - accuracy: 0.8533\n",
      "Epoch 183/500\n",
      "250/250 [==============================] - 0s 561us/step - loss: 0.3545 - accuracy: 0.8559\n",
      "Epoch 184/500\n",
      "250/250 [==============================] - 0s 534us/step - loss: 0.3590 - accuracy: 0.8558\n",
      "Epoch 185/500\n",
      "250/250 [==============================] - 0s 533us/step - loss: 0.3548 - accuracy: 0.8564\n",
      "Epoch 186/500\n",
      "250/250 [==============================] - 0s 539us/step - loss: 0.3533 - accuracy: 0.8564\n",
      "Epoch 187/500\n",
      "250/250 [==============================] - 0s 536us/step - loss: 0.3564 - accuracy: 0.8549\n",
      "Epoch 188/500\n",
      "250/250 [==============================] - 0s 538us/step - loss: 0.3539 - accuracy: 0.8579\n",
      "Epoch 189/500\n",
      "250/250 [==============================] - 0s 537us/step - loss: 0.3534 - accuracy: 0.8564\n",
      "Epoch 190/500\n",
      "250/250 [==============================] - 0s 575us/step - loss: 0.3558 - accuracy: 0.8566\n",
      "Epoch 191/500\n",
      "250/250 [==============================] - 0s 538us/step - loss: 0.3537 - accuracy: 0.8556\n",
      "Epoch 192/500\n",
      "250/250 [==============================] - 0s 540us/step - loss: 0.3537 - accuracy: 0.8561\n",
      "Epoch 193/500\n",
      "250/250 [==============================] - 0s 538us/step - loss: 0.3506 - accuracy: 0.8587\n",
      "Epoch 194/500\n",
      "250/250 [==============================] - 0s 538us/step - loss: 0.3534 - accuracy: 0.8575\n",
      "Epoch 195/500\n",
      "250/250 [==============================] - 0s 541us/step - loss: 0.3538 - accuracy: 0.8559\n",
      "Epoch 196/500\n",
      "250/250 [==============================] - 0s 538us/step - loss: 0.3519 - accuracy: 0.8571\n",
      "Epoch 197/500\n",
      "250/250 [==============================] - 0s 535us/step - loss: 0.3529 - accuracy: 0.8577\n",
      "Epoch 198/500\n",
      "250/250 [==============================] - 0s 535us/step - loss: 0.3540 - accuracy: 0.8575\n",
      "Epoch 199/500\n",
      "250/250 [==============================] - 0s 533us/step - loss: 0.3492 - accuracy: 0.8574\n",
      "Epoch 200/500\n",
      "250/250 [==============================] - 0s 542us/step - loss: 0.3516 - accuracy: 0.8550\n",
      "Epoch 201/500\n",
      "250/250 [==============================] - 0s 550us/step - loss: 0.3513 - accuracy: 0.8549\n",
      "Epoch 202/500\n",
      "250/250 [==============================] - 0s 536us/step - loss: 0.3529 - accuracy: 0.8571\n",
      "Epoch 203/500\n",
      "250/250 [==============================] - 0s 536us/step - loss: 0.3547 - accuracy: 0.8540\n",
      "Epoch 204/500\n",
      "250/250 [==============================] - 0s 540us/step - loss: 0.3511 - accuracy: 0.8591\n",
      "Epoch 205/500\n",
      "250/250 [==============================] - 0s 732us/step - loss: 0.3543 - accuracy: 0.8551\n",
      "Epoch 206/500\n",
      "250/250 [==============================] - 0s 544us/step - loss: 0.3519 - accuracy: 0.8584\n",
      "Epoch 207/500\n",
      "250/250 [==============================] - 0s 538us/step - loss: 0.3527 - accuracy: 0.8560\n",
      "Epoch 208/500\n",
      "250/250 [==============================] - 0s 537us/step - loss: 0.3505 - accuracy: 0.8558\n",
      "Epoch 209/500\n",
      "250/250 [==============================] - 0s 534us/step - loss: 0.3550 - accuracy: 0.8577\n",
      "Epoch 210/500\n",
      "250/250 [==============================] - 0s 534us/step - loss: 0.3542 - accuracy: 0.8551\n",
      "Epoch 211/500\n",
      "250/250 [==============================] - 0s 534us/step - loss: 0.3509 - accuracy: 0.8541\n",
      "Epoch 212/500\n",
      "250/250 [==============================] - 0s 532us/step - loss: 0.3501 - accuracy: 0.8572\n",
      "Epoch 213/500\n",
      "250/250 [==============================] - 0s 535us/step - loss: 0.3496 - accuracy: 0.8575\n",
      "Epoch 214/500\n",
      "250/250 [==============================] - 0s 781us/step - loss: 0.3514 - accuracy: 0.8565\n",
      "Epoch 215/500\n",
      "250/250 [==============================] - 0s 593us/step - loss: 0.3493 - accuracy: 0.8580\n",
      "Epoch 216/500\n",
      "250/250 [==============================] - 0s 548us/step - loss: 0.3509 - accuracy: 0.8583\n",
      "Epoch 217/500\n",
      "250/250 [==============================] - 0s 546us/step - loss: 0.3490 - accuracy: 0.8580\n",
      "Epoch 218/500\n",
      "250/250 [==============================] - 0s 546us/step - loss: 0.3516 - accuracy: 0.8568\n",
      "Epoch 219/500\n",
      "250/250 [==============================] - 0s 541us/step - loss: 0.3495 - accuracy: 0.8577\n",
      "Epoch 220/500\n",
      "250/250 [==============================] - 0s 540us/step - loss: 0.3517 - accuracy: 0.8568\n",
      "Epoch 221/500\n",
      "250/250 [==============================] - 0s 535us/step - loss: 0.3470 - accuracy: 0.8579\n",
      "Epoch 222/500\n",
      "250/250 [==============================] - 0s 541us/step - loss: 0.3487 - accuracy: 0.8595\n",
      "Epoch 223/500\n",
      "250/250 [==============================] - 0s 543us/step - loss: 0.3487 - accuracy: 0.8541\n",
      "Epoch 224/500\n",
      "250/250 [==============================] - 0s 538us/step - loss: 0.3502 - accuracy: 0.8581\n",
      "Epoch 225/500\n",
      "250/250 [==============================] - 0s 537us/step - loss: 0.3495 - accuracy: 0.8595\n",
      "Epoch 226/500\n",
      "250/250 [==============================] - 0s 549us/step - loss: 0.3507 - accuracy: 0.8583\n",
      "Epoch 227/500\n",
      "250/250 [==============================] - 0s 538us/step - loss: 0.3474 - accuracy: 0.8614\n",
      "Epoch 228/500\n",
      "250/250 [==============================] - 0s 535us/step - loss: 0.3498 - accuracy: 0.8558\n",
      "Epoch 229/500\n",
      "250/250 [==============================] - 0s 535us/step - loss: 0.3512 - accuracy: 0.8555\n",
      "Epoch 230/500\n",
      "250/250 [==============================] - 0s 536us/step - loss: 0.3489 - accuracy: 0.8556\n",
      "Epoch 231/500\n",
      "250/250 [==============================] - 0s 537us/step - loss: 0.3477 - accuracy: 0.8577\n",
      "Epoch 232/500\n",
      "250/250 [==============================] - 0s 540us/step - loss: 0.3472 - accuracy: 0.8624\n",
      "Epoch 233/500\n",
      "250/250 [==============================] - 0s 535us/step - loss: 0.3470 - accuracy: 0.8594\n",
      "Epoch 234/500\n",
      "250/250 [==============================] - 0s 537us/step - loss: 0.3490 - accuracy: 0.8591\n",
      "Epoch 235/500\n",
      "250/250 [==============================] - 0s 577us/step - loss: 0.3482 - accuracy: 0.8599\n",
      "Epoch 236/500\n",
      "250/250 [==============================] - 0s 539us/step - loss: 0.3481 - accuracy: 0.8602\n",
      "Epoch 237/500\n",
      "250/250 [==============================] - 0s 536us/step - loss: 0.3477 - accuracy: 0.8580\n",
      "Epoch 238/500\n",
      "250/250 [==============================] - 0s 543us/step - loss: 0.3482 - accuracy: 0.8554\n",
      "Epoch 239/500\n",
      "250/250 [==============================] - 0s 537us/step - loss: 0.3501 - accuracy: 0.8553\n",
      "Epoch 240/500\n",
      "250/250 [==============================] - 0s 536us/step - loss: 0.3509 - accuracy: 0.8571\n",
      "Epoch 241/500\n",
      "250/250 [==============================] - 0s 537us/step - loss: 0.3515 - accuracy: 0.8562\n",
      "Epoch 242/500\n",
      "250/250 [==============================] - 0s 535us/step - loss: 0.3486 - accuracy: 0.8606\n",
      "Epoch 243/500\n",
      "250/250 [==============================] - 0s 550us/step - loss: 0.3480 - accuracy: 0.8590\n",
      "Epoch 244/500\n",
      "250/250 [==============================] - 0s 802us/step - loss: 0.3473 - accuracy: 0.8593\n",
      "Epoch 245/500\n",
      "250/250 [==============================] - 0s 620us/step - loss: 0.3490 - accuracy: 0.8558\n",
      "Epoch 246/500\n",
      "250/250 [==============================] - 0s 582us/step - loss: 0.3468 - accuracy: 0.8575\n",
      "Epoch 247/500\n",
      "250/250 [==============================] - 0s 544us/step - loss: 0.3486 - accuracy: 0.8575\n",
      "Epoch 248/500\n",
      "250/250 [==============================] - 0s 562us/step - loss: 0.3461 - accuracy: 0.8584\n",
      "Epoch 249/500\n",
      "250/250 [==============================] - 0s 567us/step - loss: 0.3479 - accuracy: 0.8568\n",
      "Epoch 250/500\n",
      "250/250 [==============================] - 0s 544us/step - loss: 0.3494 - accuracy: 0.8556\n",
      "Epoch 251/500\n",
      "250/250 [==============================] - 0s 539us/step - loss: 0.3473 - accuracy: 0.8570\n",
      "Epoch 252/500\n",
      "250/250 [==============================] - 0s 542us/step - loss: 0.3492 - accuracy: 0.8599\n",
      "Epoch 253/500\n",
      "250/250 [==============================] - 0s 564us/step - loss: 0.3473 - accuracy: 0.8587\n",
      "Epoch 254/500\n",
      "250/250 [==============================] - 0s 568us/step - loss: 0.3475 - accuracy: 0.8597\n",
      "Epoch 255/500\n",
      "250/250 [==============================] - 0s 562us/step - loss: 0.3462 - accuracy: 0.8589\n",
      "Epoch 256/500\n",
      "250/250 [==============================] - 0s 555us/step - loss: 0.3457 - accuracy: 0.8595\n",
      "Epoch 257/500\n",
      "250/250 [==============================] - 0s 547us/step - loss: 0.3452 - accuracy: 0.8597\n",
      "Epoch 258/500\n",
      "250/250 [==============================] - 0s 537us/step - loss: 0.3510 - accuracy: 0.8560\n",
      "Epoch 259/500\n",
      "250/250 [==============================] - 0s 575us/step - loss: 0.3471 - accuracy: 0.8594\n",
      "Epoch 260/500\n",
      "250/250 [==============================] - 0s 534us/step - loss: 0.3467 - accuracy: 0.8602\n",
      "Epoch 261/500\n",
      "250/250 [==============================] - 0s 534us/step - loss: 0.3458 - accuracy: 0.8593\n",
      "Epoch 262/500\n",
      "250/250 [==============================] - 0s 537us/step - loss: 0.3456 - accuracy: 0.8604\n",
      "Epoch 263/500\n",
      "250/250 [==============================] - 0s 538us/step - loss: 0.3476 - accuracy: 0.8594\n",
      "Epoch 264/500\n",
      "250/250 [==============================] - 0s 554us/step - loss: 0.3475 - accuracy: 0.8566\n",
      "Epoch 265/500\n",
      "250/250 [==============================] - 0s 543us/step - loss: 0.3485 - accuracy: 0.8589\n",
      "Epoch 266/500\n",
      "250/250 [==============================] - 0s 542us/step - loss: 0.3464 - accuracy: 0.8597\n",
      "Epoch 267/500\n",
      "250/250 [==============================] - 0s 538us/step - loss: 0.3465 - accuracy: 0.8580\n",
      "Epoch 268/500\n",
      "250/250 [==============================] - 0s 537us/step - loss: 0.3467 - accuracy: 0.8586\n",
      "Epoch 269/500\n",
      "250/250 [==============================] - 0s 536us/step - loss: 0.3481 - accuracy: 0.8583\n",
      "Epoch 270/500\n",
      "250/250 [==============================] - 0s 555us/step - loss: 0.3476 - accuracy: 0.8611\n",
      "Epoch 271/500\n",
      "250/250 [==============================] - 0s 543us/step - loss: 0.3484 - accuracy: 0.8593\n",
      "Epoch 272/500\n",
      "250/250 [==============================] - 0s 535us/step - loss: 0.3450 - accuracy: 0.8594\n",
      "Epoch 273/500\n",
      "250/250 [==============================] - 0s 534us/step - loss: 0.3454 - accuracy: 0.8610\n",
      "Epoch 274/500\n",
      "250/250 [==============================] - 0s 535us/step - loss: 0.3463 - accuracy: 0.8566\n",
      "Epoch 275/500\n",
      "250/250 [==============================] - 0s 715us/step - loss: 0.3462 - accuracy: 0.8599\n",
      "Epoch 276/500\n",
      "250/250 [==============================] - 0s 537us/step - loss: 0.3461 - accuracy: 0.8576\n",
      "Epoch 277/500\n",
      "250/250 [==============================] - 0s 536us/step - loss: 0.3460 - accuracy: 0.8595\n",
      "Epoch 278/500\n",
      "250/250 [==============================] - 0s 575us/step - loss: 0.3461 - accuracy: 0.8610\n",
      "Epoch 279/500\n",
      "250/250 [==============================] - 0s 533us/step - loss: 0.3473 - accuracy: 0.8579\n",
      "Epoch 280/500\n",
      "250/250 [==============================] - 0s 536us/step - loss: 0.3464 - accuracy: 0.8605\n",
      "Epoch 281/500\n",
      "250/250 [==============================] - 0s 537us/step - loss: 0.3460 - accuracy: 0.8594\n",
      "Epoch 282/500\n",
      "250/250 [==============================] - 0s 539us/step - loss: 0.3456 - accuracy: 0.8627\n",
      "Epoch 283/500\n",
      "250/250 [==============================] - 0s 538us/step - loss: 0.3476 - accuracy: 0.8597\n",
      "Epoch 284/500\n",
      "250/250 [==============================] - 0s 535us/step - loss: 0.3461 - accuracy: 0.8606\n",
      "Epoch 285/500\n",
      "250/250 [==============================] - 0s 534us/step - loss: 0.3475 - accuracy: 0.8604\n",
      "Epoch 286/500\n",
      "250/250 [==============================] - 0s 539us/step - loss: 0.3452 - accuracy: 0.8572\n",
      "Epoch 287/500\n",
      "250/250 [==============================] - 0s 534us/step - loss: 0.3443 - accuracy: 0.8587\n",
      "Epoch 288/500\n",
      "250/250 [==============================] - 0s 549us/step - loss: 0.3460 - accuracy: 0.8577\n",
      "Epoch 289/500\n",
      "250/250 [==============================] - 0s 538us/step - loss: 0.3468 - accuracy: 0.8568\n",
      "Epoch 290/500\n",
      "250/250 [==============================] - 0s 535us/step - loss: 0.3446 - accuracy: 0.8609\n",
      "Epoch 291/500\n",
      "250/250 [==============================] - 0s 534us/step - loss: 0.3451 - accuracy: 0.8600\n",
      "Epoch 292/500\n",
      "250/250 [==============================] - 0s 535us/step - loss: 0.3426 - accuracy: 0.8602\n",
      "Epoch 293/500\n",
      "250/250 [==============================] - 0s 538us/step - loss: 0.3468 - accuracy: 0.8595\n",
      "Epoch 294/500\n",
      "250/250 [==============================] - 0s 537us/step - loss: 0.3499 - accuracy: 0.8575\n",
      "Epoch 295/500\n",
      "250/250 [==============================] - 0s 555us/step - loss: 0.3442 - accuracy: 0.8600\n",
      "Epoch 296/500\n",
      "250/250 [==============================] - 0s 577us/step - loss: 0.3483 - accuracy: 0.8536\n",
      "Epoch 297/500\n",
      "250/250 [==============================] - 0s 536us/step - loss: 0.3460 - accuracy: 0.8584\n",
      "Epoch 298/500\n",
      "250/250 [==============================] - 0s 538us/step - loss: 0.3460 - accuracy: 0.8576\n",
      "Epoch 299/500\n",
      "250/250 [==============================] - 0s 716us/step - loss: 0.3451 - accuracy: 0.8593\n",
      "Epoch 300/500\n",
      "250/250 [==============================] - 0s 540us/step - loss: 0.3450 - accuracy: 0.8608\n",
      "Epoch 301/500\n",
      "250/250 [==============================] - 0s 543us/step - loss: 0.3474 - accuracy: 0.8586\n",
      "Epoch 302/500\n",
      "250/250 [==============================] - 0s 551us/step - loss: 0.3465 - accuracy: 0.8564\n",
      "Epoch 303/500\n",
      "250/250 [==============================] - 0s 535us/step - loss: 0.3453 - accuracy: 0.8604\n",
      "Epoch 304/500\n",
      "250/250 [==============================] - 0s 535us/step - loss: 0.3427 - accuracy: 0.8618\n",
      "Epoch 305/500\n",
      "250/250 [==============================] - 0s 536us/step - loss: 0.3444 - accuracy: 0.8589\n",
      "Epoch 306/500\n",
      "250/250 [==============================] - 0s 538us/step - loss: 0.3446 - accuracy: 0.8601\n",
      "Epoch 307/500\n",
      "250/250 [==============================] - 0s 543us/step - loss: 0.3443 - accuracy: 0.8594\n",
      "Epoch 308/500\n",
      "250/250 [==============================] - 0s 545us/step - loss: 0.3463 - accuracy: 0.8580\n",
      "Epoch 309/500\n",
      "250/250 [==============================] - 0s 552us/step - loss: 0.3453 - accuracy: 0.8597\n",
      "Epoch 310/500\n",
      "250/250 [==============================] - 0s 539us/step - loss: 0.3437 - accuracy: 0.8590\n",
      "Epoch 311/500\n",
      "250/250 [==============================] - 0s 579us/step - loss: 0.3449 - accuracy: 0.8610\n",
      "Epoch 312/500\n",
      "250/250 [==============================] - 0s 539us/step - loss: 0.3451 - accuracy: 0.8604\n",
      "Epoch 313/500\n",
      "250/250 [==============================] - 0s 534us/step - loss: 0.3437 - accuracy: 0.8606\n",
      "Epoch 314/500\n",
      "250/250 [==============================] - 0s 538us/step - loss: 0.3464 - accuracy: 0.8585\n",
      "Epoch 315/500\n",
      "250/250 [==============================] - 0s 533us/step - loss: 0.3446 - accuracy: 0.8568\n",
      "Epoch 316/500\n",
      "250/250 [==============================] - 0s 536us/step - loss: 0.3447 - accuracy: 0.8587\n",
      "Epoch 317/500\n",
      "250/250 [==============================] - 0s 540us/step - loss: 0.3453 - accuracy: 0.8601\n",
      "Epoch 318/500\n",
      "250/250 [==============================] - 0s 534us/step - loss: 0.3427 - accuracy: 0.8604\n",
      "Epoch 319/500\n",
      "250/250 [==============================] - 0s 537us/step - loss: 0.3438 - accuracy: 0.8606\n",
      "Epoch 320/500\n",
      "250/250 [==============================] - 0s 533us/step - loss: 0.3454 - accuracy: 0.8605\n",
      "Epoch 321/500\n",
      "250/250 [==============================] - 0s 537us/step - loss: 0.3451 - accuracy: 0.8585\n",
      "Epoch 322/500\n",
      "250/250 [==============================] - 0s 549us/step - loss: 0.3448 - accuracy: 0.8597\n",
      "Epoch 323/500\n",
      "250/250 [==============================] - 0s 536us/step - loss: 0.3455 - accuracy: 0.8591\n",
      "Epoch 324/500\n",
      "250/250 [==============================] - 0s 537us/step - loss: 0.3432 - accuracy: 0.8602\n",
      "Epoch 325/500\n",
      "250/250 [==============================] - 0s 673us/step - loss: 0.3465 - accuracy: 0.8596\n",
      "Epoch 326/500\n",
      "250/250 [==============================] - 0s 622us/step - loss: 0.3431 - accuracy: 0.8614\n",
      "Epoch 327/500\n",
      "250/250 [==============================] - 0s 539us/step - loss: 0.3438 - accuracy: 0.8606\n",
      "Epoch 328/500\n",
      "250/250 [==============================] - 0s 535us/step - loss: 0.3475 - accuracy: 0.8585\n",
      "Epoch 329/500\n",
      "250/250 [==============================] - 0s 537us/step - loss: 0.3464 - accuracy: 0.8575\n",
      "Epoch 330/500\n",
      "250/250 [==============================] - 0s 535us/step - loss: 0.3468 - accuracy: 0.8587\n",
      "Epoch 331/500\n",
      "250/250 [==============================] - 0s 578us/step - loss: 0.3426 - accuracy: 0.8605\n",
      "Epoch 332/500\n",
      "250/250 [==============================] - 0s 535us/step - loss: 0.3423 - accuracy: 0.8597\n",
      "Epoch 333/500\n",
      "250/250 [==============================] - 0s 541us/step - loss: 0.3450 - accuracy: 0.8583\n",
      "Epoch 334/500\n",
      "250/250 [==============================] - 0s 544us/step - loss: 0.3486 - accuracy: 0.8586\n",
      "Epoch 335/500\n",
      "250/250 [==============================] - 0s 539us/step - loss: 0.3433 - accuracy: 0.8600\n",
      "Epoch 336/500\n",
      "250/250 [==============================] - 0s 533us/step - loss: 0.3428 - accuracy: 0.8601\n",
      "Epoch 337/500\n",
      "250/250 [==============================] - 0s 539us/step - loss: 0.3420 - accuracy: 0.8619\n",
      "Epoch 338/500\n",
      "250/250 [==============================] - 0s 536us/step - loss: 0.3434 - accuracy: 0.8584\n",
      "Epoch 339/500\n",
      "250/250 [==============================] - 0s 548us/step - loss: 0.3407 - accuracy: 0.8612\n",
      "Epoch 340/500\n",
      "250/250 [==============================] - 0s 560us/step - loss: 0.3430 - accuracy: 0.8606\n",
      "Epoch 341/500\n",
      "250/250 [==============================] - 0s 570us/step - loss: 0.3411 - accuracy: 0.8602\n",
      "Epoch 342/500\n",
      "250/250 [==============================] - 0s 635us/step - loss: 0.3413 - accuracy: 0.8636\n",
      "Epoch 343/500\n",
      "250/250 [==============================] - 0s 578us/step - loss: 0.3410 - accuracy: 0.8629\n",
      "Epoch 344/500\n",
      "250/250 [==============================] - 0s 571us/step - loss: 0.3412 - accuracy: 0.8610\n",
      "Epoch 345/500\n",
      "250/250 [==============================] - 0s 558us/step - loss: 0.3439 - accuracy: 0.8611\n",
      "Epoch 346/500\n",
      "250/250 [==============================] - 0s 797us/step - loss: 0.3429 - accuracy: 0.8593\n",
      "Epoch 347/500\n",
      "250/250 [==============================] - 0s 603us/step - loss: 0.3438 - accuracy: 0.8593\n",
      "Epoch 348/500\n",
      "250/250 [==============================] - 0s 554us/step - loss: 0.3411 - accuracy: 0.8612\n",
      "Epoch 349/500\n",
      "250/250 [==============================] - 0s 541us/step - loss: 0.3395 - accuracy: 0.8622\n",
      "Epoch 350/500\n",
      "250/250 [==============================] - 0s 539us/step - loss: 0.3415 - accuracy: 0.8581\n",
      "Epoch 351/500\n",
      "250/250 [==============================] - 0s 540us/step - loss: 0.3409 - accuracy: 0.8609\n",
      "Epoch 352/500\n",
      "250/250 [==============================] - 0s 534us/step - loss: 0.3415 - accuracy: 0.8596\n",
      "Epoch 353/500\n",
      "250/250 [==============================] - 0s 535us/step - loss: 0.3408 - accuracy: 0.8596\n",
      "Epoch 354/500\n",
      "250/250 [==============================] - 0s 544us/step - loss: 0.3394 - accuracy: 0.8630\n",
      "Epoch 355/500\n",
      "250/250 [==============================] - 0s 538us/step - loss: 0.3418 - accuracy: 0.8602\n",
      "Epoch 356/500\n",
      "250/250 [==============================] - 0s 537us/step - loss: 0.3407 - accuracy: 0.8608\n",
      "Epoch 357/500\n",
      "250/250 [==============================] - 0s 539us/step - loss: 0.3410 - accuracy: 0.8585\n",
      "Epoch 358/500\n",
      "250/250 [==============================] - 0s 534us/step - loss: 0.3416 - accuracy: 0.8614\n",
      "Epoch 359/500\n",
      "250/250 [==============================] - 0s 535us/step - loss: 0.3385 - accuracy: 0.8636\n",
      "Epoch 360/500\n",
      "250/250 [==============================] - 0s 537us/step - loss: 0.3419 - accuracy: 0.8593\n",
      "Epoch 361/500\n",
      "250/250 [==============================] - 0s 577us/step - loss: 0.3389 - accuracy: 0.8618\n",
      "Epoch 362/500\n",
      "250/250 [==============================] - 0s 552us/step - loss: 0.3395 - accuracy: 0.8595\n",
      "Epoch 363/500\n",
      "250/250 [==============================] - 0s 535us/step - loss: 0.3394 - accuracy: 0.8616\n",
      "Epoch 364/500\n",
      "250/250 [==============================] - 0s 541us/step - loss: 0.3383 - accuracy: 0.8610\n",
      "Epoch 365/500\n",
      "250/250 [==============================] - 0s 535us/step - loss: 0.3426 - accuracy: 0.8579\n",
      "Epoch 366/500\n",
      "250/250 [==============================] - 0s 536us/step - loss: 0.3403 - accuracy: 0.8616\n",
      "Epoch 367/500\n",
      "250/250 [==============================] - 0s 536us/step - loss: 0.3389 - accuracy: 0.8596\n",
      "Epoch 368/500\n",
      "250/250 [==============================] - 0s 701us/step - loss: 0.3378 - accuracy: 0.8601\n",
      "Epoch 369/500\n",
      "250/250 [==============================] - 0s 529us/step - loss: 0.3392 - accuracy: 0.8620\n",
      "Epoch 370/500\n",
      "250/250 [==============================] - 0s 528us/step - loss: 0.3388 - accuracy: 0.8602\n",
      "Epoch 371/500\n",
      "250/250 [==============================] - 0s 534us/step - loss: 0.3393 - accuracy: 0.8609\n",
      "Epoch 372/500\n",
      "250/250 [==============================] - 0s 535us/step - loss: 0.3398 - accuracy: 0.8604\n",
      "Epoch 373/500\n",
      "250/250 [==============================] - 0s 532us/step - loss: 0.3392 - accuracy: 0.8611\n",
      "Epoch 374/500\n",
      "250/250 [==============================] - 0s 553us/step - loss: 0.3416 - accuracy: 0.8608\n",
      "Epoch 375/500\n",
      "250/250 [==============================] - 0s 770us/step - loss: 0.3394 - accuracy: 0.8624\n",
      "Epoch 376/500\n",
      "250/250 [==============================] - 0s 542us/step - loss: 0.3390 - accuracy: 0.8611\n",
      "Epoch 377/500\n",
      "250/250 [==============================] - 0s 537us/step - loss: 0.3398 - accuracy: 0.8625\n",
      "Epoch 378/500\n",
      "250/250 [==============================] - 0s 545us/step - loss: 0.3388 - accuracy: 0.8629\n",
      "Epoch 379/500\n",
      "250/250 [==============================] - 0s 627us/step - loss: 0.3417 - accuracy: 0.8581\n",
      "Epoch 380/500\n",
      "250/250 [==============================] - 0s 538us/step - loss: 0.3375 - accuracy: 0.8571\n",
      "Epoch 381/500\n",
      "250/250 [==============================] - 0s 541us/step - loss: 0.3380 - accuracy: 0.8627\n",
      "Epoch 382/500\n",
      "250/250 [==============================] - 0s 644us/step - loss: 0.3400 - accuracy: 0.8637\n",
      "Epoch 383/500\n",
      "250/250 [==============================] - 0s 544us/step - loss: 0.3393 - accuracy: 0.8615\n",
      "Epoch 384/500\n",
      "250/250 [==============================] - 0s 538us/step - loss: 0.3389 - accuracy: 0.8590\n",
      "Epoch 385/500\n",
      "250/250 [==============================] - 0s 535us/step - loss: 0.3408 - accuracy: 0.8591\n",
      "Epoch 386/500\n",
      "250/250 [==============================] - 0s 540us/step - loss: 0.3374 - accuracy: 0.8645\n",
      "Epoch 387/500\n",
      "250/250 [==============================] - 0s 560us/step - loss: 0.3382 - accuracy: 0.8597\n",
      "Epoch 388/500\n",
      "250/250 [==============================] - 0s 593us/step - loss: 0.3394 - accuracy: 0.8604\n",
      "Epoch 389/500\n",
      "250/250 [==============================] - 0s 549us/step - loss: 0.3373 - accuracy: 0.8619\n",
      "Epoch 390/500\n",
      "250/250 [==============================] - 0s 730us/step - loss: 0.3400 - accuracy: 0.8605\n",
      "Epoch 391/500\n",
      "250/250 [==============================] - 0s 551us/step - loss: 0.3395 - accuracy: 0.8612\n",
      "Epoch 392/500\n",
      "250/250 [==============================] - 0s 539us/step - loss: 0.3369 - accuracy: 0.8641\n",
      "Epoch 393/500\n",
      "250/250 [==============================] - 0s 535us/step - loss: 0.3379 - accuracy: 0.8589\n",
      "Epoch 394/500\n",
      "250/250 [==============================] - 0s 537us/step - loss: 0.3384 - accuracy: 0.8586\n",
      "Epoch 395/500\n",
      "250/250 [==============================] - 0s 537us/step - loss: 0.3370 - accuracy: 0.8629\n",
      "Epoch 396/500\n",
      "250/250 [==============================] - 0s 535us/step - loss: 0.3367 - accuracy: 0.8629\n",
      "Epoch 397/500\n",
      "250/250 [==============================] - 0s 534us/step - loss: 0.3352 - accuracy: 0.8640\n",
      "Epoch 398/500\n",
      "250/250 [==============================] - 0s 536us/step - loss: 0.3358 - accuracy: 0.8597\n",
      "Epoch 399/500\n",
      "250/250 [==============================] - 0s 540us/step - loss: 0.3374 - accuracy: 0.8639\n",
      "Epoch 400/500\n",
      "250/250 [==============================] - 0s 533us/step - loss: 0.3384 - accuracy: 0.8615\n",
      "Epoch 401/500\n",
      "250/250 [==============================] - 0s 538us/step - loss: 0.3402 - accuracy: 0.8616\n",
      "Epoch 402/500\n",
      "250/250 [==============================] - 0s 533us/step - loss: 0.3377 - accuracy: 0.8611\n",
      "Epoch 403/500\n",
      "250/250 [==============================] - 0s 573us/step - loss: 0.3386 - accuracy: 0.8624\n",
      "Epoch 404/500\n",
      "250/250 [==============================] - 0s 536us/step - loss: 0.3368 - accuracy: 0.8615\n",
      "Epoch 405/500\n",
      "250/250 [==============================] - 0s 533us/step - loss: 0.3351 - accuracy: 0.8622\n",
      "Epoch 406/500\n",
      "250/250 [==============================] - 0s 540us/step - loss: 0.3399 - accuracy: 0.8596\n",
      "Epoch 407/500\n",
      "250/250 [==============================] - 0s 532us/step - loss: 0.3399 - accuracy: 0.8599\n",
      "Epoch 408/500\n",
      "250/250 [==============================] - 0s 535us/step - loss: 0.3356 - accuracy: 0.8626\n",
      "Epoch 409/500\n",
      "250/250 [==============================] - 0s 537us/step - loss: 0.3335 - accuracy: 0.8654\n",
      "Epoch 410/500\n",
      "250/250 [==============================] - 0s 535us/step - loss: 0.3364 - accuracy: 0.8620\n",
      "Epoch 411/500\n",
      "250/250 [==============================] - 0s 702us/step - loss: 0.3374 - accuracy: 0.8606\n",
      "Epoch 412/500\n",
      "250/250 [==============================] - 0s 534us/step - loss: 0.3433 - accuracy: 0.8593\n",
      "Epoch 413/500\n",
      "250/250 [==============================] - 0s 534us/step - loss: 0.3377 - accuracy: 0.8633\n",
      "Epoch 414/500\n",
      "250/250 [==============================] - 0s 529us/step - loss: 0.3383 - accuracy: 0.8576\n",
      "Epoch 415/500\n",
      "250/250 [==============================] - 0s 531us/step - loss: 0.3379 - accuracy: 0.8615\n",
      "Epoch 416/500\n",
      "250/250 [==============================] - 0s 571us/step - loss: 0.3380 - accuracy: 0.8622\n",
      "Epoch 417/500\n",
      "250/250 [==============================] - 0s 536us/step - loss: 0.3369 - accuracy: 0.8614\n",
      "Epoch 418/500\n",
      "250/250 [==============================] - 0s 535us/step - loss: 0.3368 - accuracy: 0.8636\n",
      "Epoch 419/500\n",
      "250/250 [==============================] - 0s 541us/step - loss: 0.3361 - accuracy: 0.8599\n",
      "Epoch 420/500\n",
      "250/250 [==============================] - 0s 539us/step - loss: 0.3366 - accuracy: 0.8612\n",
      "Epoch 421/500\n",
      "250/250 [==============================] - 0s 536us/step - loss: 0.3360 - accuracy: 0.8630\n",
      "Epoch 422/500\n",
      "250/250 [==============================] - 0s 536us/step - loss: 0.3375 - accuracy: 0.8629\n",
      "Epoch 423/500\n",
      "250/250 [==============================] - 0s 534us/step - loss: 0.3367 - accuracy: 0.8609\n",
      "Epoch 424/500\n",
      "250/250 [==============================] - 0s 534us/step - loss: 0.3345 - accuracy: 0.8635\n",
      "Epoch 425/500\n",
      "250/250 [==============================] - 0s 533us/step - loss: 0.3374 - accuracy: 0.8612\n",
      "Epoch 426/500\n",
      "250/250 [==============================] - 0s 533us/step - loss: 0.3340 - accuracy: 0.8621\n",
      "Epoch 427/500\n",
      "250/250 [==============================] - 0s 536us/step - loss: 0.3359 - accuracy: 0.8618\n",
      "Epoch 428/500\n",
      "250/250 [==============================] - 0s 534us/step - loss: 0.3367 - accuracy: 0.8605\n",
      "Epoch 429/500\n",
      "250/250 [==============================] - 0s 575us/step - loss: 0.3391 - accuracy: 0.8620\n",
      "Epoch 430/500\n",
      "250/250 [==============================] - 0s 536us/step - loss: 0.3352 - accuracy: 0.8633\n",
      "Epoch 431/500\n",
      "250/250 [==============================] - 0s 534us/step - loss: 0.3371 - accuracy: 0.8616\n",
      "Epoch 432/500\n",
      "250/250 [==============================] - 0s 705us/step - loss: 0.3351 - accuracy: 0.8614\n",
      "Epoch 433/500\n",
      "250/250 [==============================] - 0s 539us/step - loss: 0.3361 - accuracy: 0.8630\n",
      "Epoch 434/500\n",
      "250/250 [==============================] - 0s 535us/step - loss: 0.3370 - accuracy: 0.8644\n",
      "Epoch 435/500\n",
      "250/250 [==============================] - 0s 533us/step - loss: 0.3341 - accuracy: 0.8629\n",
      "Epoch 436/500\n",
      "250/250 [==============================] - 0s 537us/step - loss: 0.3377 - accuracy: 0.8627\n",
      "Epoch 437/500\n",
      "250/250 [==============================] - 0s 535us/step - loss: 0.3353 - accuracy: 0.8645\n",
      "Epoch 438/500\n",
      "250/250 [==============================] - 0s 535us/step - loss: 0.3388 - accuracy: 0.8620\n",
      "Epoch 439/500\n",
      "250/250 [==============================] - 0s 584us/step - loss: 0.3347 - accuracy: 0.8655\n",
      "Epoch 440/500\n",
      "250/250 [==============================] - 0s 556us/step - loss: 0.3359 - accuracy: 0.8615\n",
      "Epoch 441/500\n",
      "250/250 [==============================] - 0s 576us/step - loss: 0.3350 - accuracy: 0.8637\n",
      "Epoch 442/500\n",
      "250/250 [==============================] - 0s 541us/step - loss: 0.3339 - accuracy: 0.8650\n",
      "Epoch 443/500\n",
      "250/250 [==============================] - 0s 539us/step - loss: 0.3348 - accuracy: 0.8602\n",
      "Epoch 444/500\n",
      "250/250 [==============================] - 0s 539us/step - loss: 0.3350 - accuracy: 0.8643\n",
      "Epoch 445/500\n",
      "250/250 [==============================] - 0s 540us/step - loss: 0.3357 - accuracy: 0.8648\n",
      "Epoch 446/500\n",
      "250/250 [==============================] - 0s 541us/step - loss: 0.3359 - accuracy: 0.8634\n",
      "Epoch 447/500\n",
      "250/250 [==============================] - 0s 549us/step - loss: 0.3373 - accuracy: 0.8616\n",
      "Epoch 448/500\n",
      "250/250 [==============================] - 0s 540us/step - loss: 0.3367 - accuracy: 0.8619\n",
      "Epoch 449/500\n",
      "250/250 [==============================] - 0s 534us/step - loss: 0.3348 - accuracy: 0.8618\n",
      "Epoch 450/500\n",
      "250/250 [==============================] - 0s 544us/step - loss: 0.3371 - accuracy: 0.8624\n",
      "Epoch 451/500\n",
      "250/250 [==============================] - 0s 739us/step - loss: 0.3351 - accuracy: 0.8641\n",
      "Epoch 452/500\n",
      "250/250 [==============================] - 0s 577us/step - loss: 0.3342 - accuracy: 0.8645\n",
      "Epoch 453/500\n",
      "250/250 [==============================] - 0s 540us/step - loss: 0.3344 - accuracy: 0.8626\n",
      "Epoch 454/500\n",
      "250/250 [==============================] - 0s 533us/step - loss: 0.3347 - accuracy: 0.8655\n",
      "Epoch 455/500\n",
      "250/250 [==============================] - 0s 538us/step - loss: 0.3356 - accuracy: 0.8633\n",
      "Epoch 456/500\n",
      "250/250 [==============================] - 0s 538us/step - loss: 0.3365 - accuracy: 0.8610\n",
      "Epoch 457/500\n",
      "250/250 [==============================] - 0s 535us/step - loss: 0.3362 - accuracy: 0.8618\n",
      "Epoch 458/500\n",
      "250/250 [==============================] - 0s 541us/step - loss: 0.3356 - accuracy: 0.8627\n",
      "Epoch 459/500\n",
      "250/250 [==============================] - 0s 541us/step - loss: 0.3330 - accuracy: 0.8624\n",
      "Epoch 460/500\n",
      "250/250 [==============================] - 0s 539us/step - loss: 0.3351 - accuracy: 0.8655\n",
      "Epoch 461/500\n",
      "250/250 [==============================] - 0s 537us/step - loss: 0.3358 - accuracy: 0.8626\n",
      "Epoch 462/500\n",
      "250/250 [==============================] - 0s 535us/step - loss: 0.3343 - accuracy: 0.8640\n",
      "Epoch 463/500\n",
      "250/250 [==============================] - 0s 534us/step - loss: 0.3367 - accuracy: 0.8609\n",
      "Epoch 464/500\n",
      "250/250 [==============================] - 0s 576us/step - loss: 0.3366 - accuracy: 0.8655\n",
      "Epoch 465/500\n",
      "250/250 [==============================] - 0s 536us/step - loss: 0.3342 - accuracy: 0.8630\n",
      "Epoch 466/500\n",
      "250/250 [==============================] - 0s 535us/step - loss: 0.3329 - accuracy: 0.8637\n",
      "Epoch 467/500\n",
      "250/250 [==============================] - 0s 536us/step - loss: 0.3341 - accuracy: 0.8645\n",
      "Epoch 468/500\n",
      "250/250 [==============================] - 0s 537us/step - loss: 0.3348 - accuracy: 0.8604\n",
      "Epoch 469/500\n",
      "250/250 [==============================] - 0s 732us/step - loss: 0.3336 - accuracy: 0.8654\n",
      "Epoch 470/500\n",
      "250/250 [==============================] - 0s 537us/step - loss: 0.3346 - accuracy: 0.8626\n",
      "Epoch 471/500\n",
      "250/250 [==============================] - 0s 541us/step - loss: 0.3336 - accuracy: 0.8636\n",
      "Epoch 472/500\n",
      "250/250 [==============================] - 0s 541us/step - loss: 0.3345 - accuracy: 0.8624\n",
      "Epoch 473/500\n",
      "250/250 [==============================] - 0s 536us/step - loss: 0.3386 - accuracy: 0.8629\n",
      "Epoch 474/500\n",
      "250/250 [==============================] - 0s 575us/step - loss: 0.3352 - accuracy: 0.8594\n",
      "Epoch 475/500\n",
      "250/250 [==============================] - 0s 564us/step - loss: 0.3349 - accuracy: 0.8641\n",
      "Epoch 476/500\n",
      "250/250 [==============================] - 0s 538us/step - loss: 0.3390 - accuracy: 0.8640\n",
      "Epoch 477/500\n",
      "250/250 [==============================] - 0s 537us/step - loss: 0.3332 - accuracy: 0.8634\n",
      "Epoch 478/500\n",
      "250/250 [==============================] - 0s 537us/step - loss: 0.3355 - accuracy: 0.8635\n",
      "Epoch 479/500\n",
      "250/250 [==============================] - 0s 533us/step - loss: 0.3321 - accuracy: 0.8658\n",
      "Epoch 480/500\n",
      "250/250 [==============================] - 0s 534us/step - loss: 0.3360 - accuracy: 0.8665\n",
      "Epoch 481/500\n",
      "250/250 [==============================] - 0s 536us/step - loss: 0.3333 - accuracy: 0.8637\n",
      "Epoch 482/500\n",
      "250/250 [==============================] - 0s 536us/step - loss: 0.3323 - accuracy: 0.8630\n",
      "Epoch 483/500\n",
      "250/250 [==============================] - 0s 533us/step - loss: 0.3336 - accuracy: 0.8629\n",
      "Epoch 484/500\n",
      "250/250 [==============================] - 0s 534us/step - loss: 0.3338 - accuracy: 0.8621\n",
      "Epoch 485/500\n",
      "250/250 [==============================] - 0s 534us/step - loss: 0.3348 - accuracy: 0.8616\n",
      "Epoch 486/500\n",
      "250/250 [==============================] - 0s 536us/step - loss: 0.3348 - accuracy: 0.8633\n",
      "Epoch 487/500\n",
      "250/250 [==============================] - 0s 600us/step - loss: 0.3341 - accuracy: 0.8627\n",
      "Epoch 488/500\n",
      "250/250 [==============================] - 0s 732us/step - loss: 0.3366 - accuracy: 0.8616\n",
      "Epoch 489/500\n",
      "250/250 [==============================] - 0s 869us/step - loss: 0.3343 - accuracy: 0.8630\n",
      "Epoch 490/500\n",
      "250/250 [==============================] - 0s 542us/step - loss: 0.3332 - accuracy: 0.8639\n",
      "Epoch 491/500\n",
      "250/250 [==============================] - 0s 536us/step - loss: 0.3381 - accuracy: 0.8616\n",
      "Epoch 492/500\n",
      "250/250 [==============================] - 0s 537us/step - loss: 0.3370 - accuracy: 0.8621\n",
      "Epoch 493/500\n",
      "250/250 [==============================] - 0s 536us/step - loss: 0.3347 - accuracy: 0.8620\n",
      "Epoch 494/500\n",
      "250/250 [==============================] - 0s 538us/step - loss: 0.3330 - accuracy: 0.8637\n",
      "Epoch 495/500\n",
      "250/250 [==============================] - 0s 536us/step - loss: 0.3335 - accuracy: 0.8630\n",
      "Epoch 496/500\n",
      "250/250 [==============================] - 0s 539us/step - loss: 0.3339 - accuracy: 0.8665\n",
      "Epoch 497/500\n",
      "250/250 [==============================] - 0s 579us/step - loss: 0.3320 - accuracy: 0.8636\n",
      "Epoch 498/500\n",
      "250/250 [==============================] - 0s 536us/step - loss: 0.3353 - accuracy: 0.8621\n",
      "Epoch 499/500\n",
      "250/250 [==============================] - 0s 538us/step - loss: 0.3328 - accuracy: 0.8680\n",
      "Epoch 500/500\n",
      "250/250 [==============================] - 0s 535us/step - loss: 0.3360 - accuracy: 0.8599\n"
     ]
    },
    {
     "data": {
      "text/plain": [
       "<keras.src.callbacks.History at 0x29cfcef90>"
      ]
     },
     "execution_count": 47,
     "metadata": {},
     "output_type": "execute_result"
    }
   ],
   "source": [
    "\n",
    "model = keras.Sequential([\n",
    "    keras.layers.Dense(20,input_shape=(10,),activation='relu'),\n",
    "    keras.layers.Dense(1, activation='sigmoid')\n",
    "])\n",
    "\n",
    "model.compile(optimizer='adam',\n",
    "              loss='binary_crossentropy',\n",
    "              metrics=['accuracy'])\n",
    "\n",
    "model.fit(X_train, y_train, epochs=500)\n"
   ]
  },
  {
   "cell_type": "code",
   "execution_count": 48,
   "metadata": {
    "scrolled": true
   },
   "outputs": [
    {
     "name": "stdout",
     "output_type": "stream",
     "text": [
      "63/63 [==============================] - 0s 585us/step - loss: 0.3559 - accuracy: 0.8520\n"
     ]
    },
    {
     "data": {
      "text/plain": [
       "[0.35592761635780334, 0.8519999980926514]"
      ]
     },
     "execution_count": 48,
     "metadata": {},
     "output_type": "execute_result"
    }
   ],
   "source": [
    "model.evaluate(X_test, y_test)\n"
   ]
  },
  {
   "cell_type": "code",
   "execution_count": 18,
   "metadata": {},
   "outputs": [
    {
     "name": "stdout",
     "output_type": "stream",
     "text": [
      "63/63 [==============================] - 0s 506us/step\n"
     ]
    },
    {
     "data": {
      "text/plain": [
       "array([[0.07944812],\n",
       "       [0.08400207],\n",
       "       [0.07122318],\n",
       "       [0.06410734],\n",
       "       [0.16106135]], dtype=float32)"
      ]
     },
     "execution_count": 18,
     "metadata": {},
     "output_type": "execute_result"
    }
   ],
   "source": [
    "yp = model.predict(X_test)\n",
    "yp[:5]\n"
   ]
  },
  {
   "cell_type": "code",
   "execution_count": 49,
   "metadata": {},
   "outputs": [],
   "source": [
    "y_pred = []\n",
    "for element in yp:\n",
    "    if element > 0.5:\n",
    "        y_pred.append(1)\n",
    "    else:\n",
    "        y_pred.append(0)\n"
   ]
  },
  {
   "cell_type": "code",
   "execution_count": 48,
   "metadata": {},
   "outputs": [
    {
     "data": {
      "text/plain": [
       "[0, 0, 0, 0, 0, 0, 0, 0, 0, 0]"
      ]
     },
     "execution_count": 48,
     "metadata": {},
     "output_type": "execute_result"
    }
   ],
   "source": [
    "y_pred[:10]\n"
   ]
  },
  {
   "cell_type": "code",
   "execution_count": 49,
   "metadata": {},
   "outputs": [
    {
     "data": {
      "text/plain": [
       "7054    0\n",
       "442     0\n",
       "3954    0\n",
       "2288    0\n",
       "3196    0\n",
       "6178    0\n",
       "8351    0\n",
       "5658    1\n",
       "2065    0\n",
       "413     1\n",
       "Name: Exited, dtype: int64"
      ]
     },
     "execution_count": 49,
     "metadata": {},
     "output_type": "execute_result"
    }
   ],
   "source": [
    "y_test[:10]\n"
   ]
  },
  {
   "cell_type": "code",
   "execution_count": 50,
   "metadata": {},
   "outputs": [
    {
     "name": "stdout",
     "output_type": "stream",
     "text": [
      "              precision    recall  f1-score   support\n",
      "\n",
      "           0       0.81      0.99      0.89      1595\n",
      "           1       0.73      0.11      0.19       405\n",
      "\n",
      "    accuracy                           0.81      2000\n",
      "   macro avg       0.77      0.55      0.54      2000\n",
      "weighted avg       0.80      0.81      0.75      2000\n",
      "\n"
     ]
    }
   ],
   "source": [
    "from sklearn.metrics import confusion_matrix , classification_report\n",
    "\n",
    "print(classification_report(y_test,y_pred))\n"
   ]
  },
  {
   "cell_type": "code",
   "execution_count": 46,
   "metadata": {
    "scrolled": false
   },
   "outputs": [
    {
     "data": {
      "text/plain": [
       "Text(95.72222222222221, 0.5, 'Truth')"
      ]
     },
     "execution_count": 46,
     "metadata": {},
     "output_type": "execute_result"
    },
    {
     "data": {
      "image/png": "[encoded data removed]",
      "text/plain": [
       "<Figure size 1000x700 with 2 Axes>"
      ]
     },
     "metadata": {},
     "output_type": "display_data"
    }
   ],
   "source": [
    "import seaborn as sn\n",
    "cm = tf.math.confusion_matrix(labels=y_test,predictions=y_pred)\n",
    "\n",
    "plt.figure(figsize = (10,7))\n",
    "sn.heatmap(cm, annot=True, fmt='d')\n",
    "plt.xlabel('Predicted')\n",
    "plt.ylabel('Truth')\n"
   ]
  },
  {
   "cell_type": "code",
   "execution_count": 52,
   "metadata": {},
   "outputs": [
    {
     "data": {
      "text/plain": [
       "(2000,)"
      ]
     },
     "execution_count": 52,
     "metadata": {},
     "output_type": "execute_result"
    }
   ],
   "source": [
    "y_test.shape\n"
   ]
  },
  {
   "cell_type": "code",
   "execution_count": 43,
   "metadata": {},
   "outputs": [
    {
     "name": "stdout",
     "output_type": "stream",
     "text": [
      "Accuracy Score:  0.811\n"
     ]
    }
   ],
   "source": [
    "from sklearn.metrics import accuracy_score\n",
    "acc = accuracy_score(y_test,y_pred)\n",
    "print(\"Accuracy Score: \",acc)\n"
   ]
  },
  {
   "cell_type": "code",
   "execution_count": 23,
   "metadata": {},
   "outputs": [
    {
     "name": "stdout",
     "output_type": "stream",
     "text": [
      "Precision Score:  0.7288135593220338\n"
     ]
    }
   ],
   "source": [
    "from sklearn.metrics import precision_score\n",
    "ps = precision_score(y_test,y_pred)\n",
    "print(\"Precision Score: \",ps)\n"
   ]
  },
  {
   "cell_type": "code",
   "execution_count": 26,
   "metadata": {},
   "outputs": [
    {
     "name": "stdout",
     "output_type": "stream",
     "text": [
      "Recall Score:  0.10617283950617284\n"
     ]
    }
   ],
   "source": [
    "from sklearn.metrics import recall_score\n",
    "rs = recall_score(y_test,y_pred)\n",
    "print(\"Recall Score: \",rs)\n"
   ]
  },
  {
   "cell_type": "markdown",
   "metadata": {},
   "source": [
    "**Accuracy**"
   ]
  },
  {
   "cell_type": "code",
   "execution_count": 58,
   "metadata": {
    "scrolled": true
   },
   "outputs": [
    {
     "data": {
      "text/plain": [
       "0.82"
      ]
     },
     "execution_count": 58,
     "metadata": {},
     "output_type": "execute_result"
    }
   ],
   "source": [
    "round((1556+92)/(1556+92+39+313),2)\n"
   ]
  },
  {
   "cell_type": "markdown",
   "metadata": {},
   "source": [
    "**Precision for 0 class. i.e. Precision for customers who did not churn**"
   ]
  },
  {
   "cell_type": "code",
   "execution_count": 59,
   "metadata": {
    "scrolled": true
   },
   "outputs": [
    {
     "data": {
      "text/plain": [
       "0.83"
      ]
     },
     "execution_count": 59,
     "metadata": {},
     "output_type": "execute_result"
    }
   ],
   "source": [
    "round(1556/(1556+313),2)\n"
   ]
  },
  {
   "cell_type": "markdown",
   "metadata": {},
   "source": [
    "**Precision for 1 class. i.e. Precision for customers who actually churned**"
   ]
  },
  {
   "cell_type": "code",
   "execution_count": 242,
   "metadata": {
    "scrolled": true
   },
   "outputs": [
    {
     "data": {
      "text/plain": [
       "0.63"
      ]
     },
     "execution_count": 242,
     "metadata": {},
     "output_type": "execute_result"
    }
   ],
   "source": [
    "round(92/(92+137),2)\n"
   ]
  },
  {
   "cell_type": "markdown",
   "metadata": {},
   "source": [
    "**Recall for 0 class**"
   ]
  },
  {
   "cell_type": "code",
   "execution_count": 60,
   "metadata": {},
   "outputs": [
    {
     "data": {
      "text/plain": [
       "0.98"
      ]
     },
     "execution_count": 60,
     "metadata": {},
     "output_type": "execute_result"
    }
   ],
   "source": [
    "round(1556/(1556+39),2)\n"
   ]
  }
 ],
 "metadata": {
  "kernelspec": {
   "display_name": "Python 3 (ipykernel)",
   "language": "python",
   "name": "python3"
  },
  "language_info": {
   "codemirror_mode": {
    "name": "ipython",
    "version": 3
   },
   "file_extension": ".py",
   "mimetype": "text/x-python",
   "name": "python",
   "nbconvert_exporter": "python",
   "pygments_lexer": "ipython3",
   "version": "3.11.6"
  }
 },
 "nbformat": 4,
 "nbformat_minor": 4
}
